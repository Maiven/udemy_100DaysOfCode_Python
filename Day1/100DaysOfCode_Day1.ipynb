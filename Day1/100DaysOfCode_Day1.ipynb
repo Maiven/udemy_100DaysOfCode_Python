{
  "nbformat": 4,
  "nbformat_minor": 0,
  "metadata": {
    "colab": {
      "name": "100DaysOfCode_Day1.ipynb",
      "provenance": [],
      "collapsed_sections": [],
      "authorship_tag": "ABX9TyN0OJASQ4EY9GYKujZKNYuh",
      "include_colab_link": true
    },
    "kernelspec": {
      "name": "python3",
      "display_name": "Python 3"
    }
  },
  "cells": [
    {
      "cell_type": "markdown",
      "metadata": {
        "id": "view-in-github",
        "colab_type": "text"
      },
      "source": [
        "<a href=\"https://colab.research.google.com/github/Maiven/udemy_100DaysOfCode_Python/blob/main/Day1/100DaysOfCode_Day1.ipynb\" target=\"_parent\"><img src=\"https://colab.research.google.com/assets/colab-badge.svg\" alt=\"Open In Colab\"/></a>"
      ]
    },
    {
      "cell_type": "code",
      "metadata": {
        "colab": {
          "base_uri": "https://localhost:8080/"
        },
        "id": "9qYe2c-jzbyT",
        "outputId": "81d21788-80cf-4561-81b5-e456d5557268"
      },
      "source": [
        "print(len(\"95637+12\"))"
      ],
      "execution_count": 1,
      "outputs": [
        {
          "output_type": "stream",
          "text": [
            "8\n"
          ],
          "name": "stdout"
        }
      ]
    },
    {
      "cell_type": "code",
      "metadata": {
        "colab": {
          "base_uri": "https://localhost:8080/"
        },
        "id": "DByI1j4Tzoxp",
        "outputId": "0bc00cd2-9704-4d0b-a1d3-dc3770bd2cbd"
      },
      "source": [
        "#Read the code below, what will be printed in the output?\n",
        "\n",
        "score = 67\n",
        "if score < 80 and score > 70:\n",
        "    print(\"A\")\n",
        "elif score < 90 or score > 80:\n",
        "    print(\"B\")\n",
        "elif score > 60:\n",
        "    print(\"C\")\n",
        "else:\n",
        "    print(\"D\")"
      ],
      "execution_count": 3,
      "outputs": [
        {
          "output_type": "stream",
          "text": [
            "B\n",
            "C\n"
          ],
          "name": "stdout"
        }
      ]
    },
    {
      "cell_type": "code",
      "metadata": {
        "id": "q-acC7ht0hsp"
      },
      "source": [
        "질문 3:\n",
        "What will be printed in the console?\n",
        "\n",
        "def a_function(a_parameter):    \n",
        "    a_variable = 15    \n",
        "    return a_parameter \n",
        "a_function(10)\n",
        "print(a_variable)"
      ],
      "execution_count": null,
      "outputs": []
    },
    {
      "cell_type": "code",
      "metadata": {
        "id": "Gb8dZqet0qdc"
      },
      "source": [
        "질문 4:\n",
        "What will be printed as the output?\n",
        "\n",
        "def outer_function(a, b):\n",
        "    def inner_function(c, d):\n",
        "        return c + d\n",
        "    return inner_function(a, b)\n",
        " \n",
        "result = outer_function(5, 10)\n",
        "print(result)"
      ],
      "execution_count": null,
      "outputs": []
    },
    {
      "cell_type": "code",
      "metadata": {
        "id": "Wd1WXpdp1AFO"
      },
      "source": [
        "질문 5:\n",
        "Given a Car Class has the following attributes and methods, which line of code in the answers will produce an error?\n",
        "\n",
        "Attributes:\n",
        "\n",
        "num_of_seats\n",
        "speed\n",
        "\n",
        "Methods:\n",
        "\n",
        "drive()\n",
        "break()"
      ],
      "execution_count": null,
      "outputs": []
    },
    {
      "cell_type": "code",
      "metadata": {
        "id": "Celk65ub1Ls3"
      },
      "source": [
        "질문 6:\n",
        "my_toyota = Car()\n",
        "my_fiat = Car()\n",
        "What word would you use to describe my_toyota and my_fiat?"
      ],
      "execution_count": null,
      "outputs": []
    },
    {
      "cell_type": "code",
      "metadata": {
        "id": "3MhSN4EF1URl"
      },
      "source": [
        "질문 7:\n",
        "If you are writing code inside the main.py file to open the quiz.txt what would be the relative file path?\n",
        "답 : quiz.txt"
      ],
      "execution_count": null,
      "outputs": []
    },
    {
      "cell_type": "code",
      "metadata": {
        "id": "OpDWAVUI1295"
      },
      "source": [
        "질문 8:\n",
        "What is the output of this code?\n",
        "\n",
        "\n",
        "\n",
        "def foo(a, b=4, c=6):\n",
        "    print(a, b, c)\n",
        " \n",
        "foo(20, c=12)"
      ],
      "execution_count": null,
      "outputs": []
    },
    {
      "cell_type": "code",
      "metadata": {
        "id": "AJKVnx9n2Df1"
      },
      "source": [
        "#질문 9:\n",
        "def all_aboard(a, *args, **kw): \n",
        "    print(a, args, kw)\n",
        " \n",
        "all_aboard(4, 7, 3, 0, x=10, y=64)"
      ],
      "execution_count": null,
      "outputs": []
    },
    {
      "cell_type": "code",
      "metadata": {
        "id": "Z1DMIzoz2eWZ"
      },
      "source": [
        "질문 10:\n",
        "What's the print output for the following code? You do not need a computer to calculate this.\n",
        "\n",
        "numbers = [1, 1, 2, 3, 5, 8, 13, 21, 34, 55]\n",
        "result = [num + 3 for num in numbers if num % 2 == 0]\n",
        "print(result)"
      ],
      "execution_count": null,
      "outputs": []
    },
    {
      "cell_type": "code",
      "metadata": {
        "id": "tNy5Wgpk3F5J"
      },
      "source": [
        "알고 있는 내용첫 번째 시도에서 정답을 맞힌 질문들입니다.\n",
        "\n",
        "What's the output for the following code?print(len(\"95637+12\"))\n",
        "What will be printed in the console?def a_function(a_parameter): a_variable = 15 return a_parameter  a_function(10) print(a_variable)\n",
        "Given a Car Class has the following attributes and methods, which line of code in the answers will produce an error?Attributes:num_of_seatsspeedMethods:drive()break()\n",
        "\n",
        "검토해야 하는 내용\n",
        "\n",
        "Read the code below, what will be printed in the output?score = 67 if score < 80 and score > 70: print(\"A\") elif score < 90 or score > 80: print(\"B\") elif score > 60: print(\"C\") else: print(\"D\")\n",
        "What will be printed as the output?def outer_function(a, b): def inner_function(c, d): return c + d return inner_function(a, b) result = outer_function(5, 10) print(result)\n",
        "my_toyota = Car() my_fiat = Car()What word would you use to describe my_toyota and my_fiat?\n",
        "If you are writing code inside the main.py file to open the quiz.txt what would be the relative file path?\n",
        "What is the output of this code?def foo(a, b=4, c=6): print(a, b, c) foo(20, c=12)\n",
        "def all_aboard(a, *args, **kw): print(a, args, kw) all_aboard(4, 7, 3, 0, x=10, y=64)What is the output of the code above? \n",
        "What's the print output for the following code? You do not need a computer to calculate this. numbers = [1, 1, 2, 3, 5, 8, 13, 21, 34, 55] result = [num + 3 for num in numbers if num % 2 == 0] print(result)"
      ],
      "execution_count": null,
      "outputs": []
    }
  ]
}