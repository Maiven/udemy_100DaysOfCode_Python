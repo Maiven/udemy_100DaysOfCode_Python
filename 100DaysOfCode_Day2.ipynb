{
  "nbformat": 4,
  "nbformat_minor": 0,
  "metadata": {
    "colab": {
      "name": "100DaysOfCode_Day2.ipynb",
      "provenance": [],
      "collapsed_sections": [],
      "authorship_tag": "ABX9TyORnp8+GEWrzSz7W4df8TR7",
      "include_colab_link": true
    },
    "kernelspec": {
      "name": "python3",
      "display_name": "Python 3"
    }
  },
  "cells": [
    {
      "cell_type": "markdown",
      "metadata": {
        "id": "view-in-github",
        "colab_type": "text"
      },
      "source": [
        "<a href=\"https://colab.research.google.com/github/Maiven/udemy_100DaysOfCode_Python/blob/main/100DaysOfCode_Day2.ipynb\" target=\"_parent\"><img src=\"https://colab.research.google.com/assets/colab-badge.svg\" alt=\"Open In Colab\"/></a>"
      ]
    },
    {
      "cell_type": "code",
      "metadata": {
        "colab": {
          "base_uri": "https://localhost:8080/",
          "height": 162
        },
        "id": "2LIz9ZToVi6j",
        "outputId": "9479aff3-0024-419d-9097-d26fc30f61bd"
      },
      "source": [
        "print(len(1234))"
      ],
      "execution_count": 1,
      "outputs": [
        {
          "output_type": "error",
          "ename": "TypeError",
          "evalue": "ignored",
          "traceback": [
            "\u001b[0;31m---------------------------------------------------------------------------\u001b[0m",
            "\u001b[0;31mTypeError\u001b[0m                                 Traceback (most recent call last)",
            "\u001b[0;32m<ipython-input-1-9e560b188662>\u001b[0m in \u001b[0;36m<module>\u001b[0;34m()\u001b[0m\n\u001b[0;32m----> 1\u001b[0;31m \u001b[0mprint\u001b[0m\u001b[0;34m(\u001b[0m\u001b[0mlen\u001b[0m\u001b[0;34m(\u001b[0m\u001b[0;36m1234\u001b[0m\u001b[0;34m)\u001b[0m\u001b[0;34m)\u001b[0m\u001b[0;34m\u001b[0m\u001b[0;34m\u001b[0m\u001b[0m\n\u001b[0m",
            "\u001b[0;31mTypeError\u001b[0m: object of type 'int' has no len()"
          ]
        }
      ]
    },
    {
      "cell_type": "code",
      "metadata": {
        "colab": {
          "base_uri": "https://localhost:8080/"
        },
        "id": "URm0JvfWbuNI",
        "outputId": "7dde715c-4641-48ce-93fb-3a5c7c0863c6"
      },
      "source": [
        "print(\"hello\"[0])"
      ],
      "execution_count": 2,
      "outputs": [
        {
          "output_type": "stream",
          "text": [
            "h\n"
          ],
          "name": "stdout"
        }
      ]
    },
    {
      "cell_type": "code",
      "metadata": {
        "colab": {
          "base_uri": "https://localhost:8080/"
        },
        "id": "oN_HFTAub7l-",
        "outputId": "91644dd8-e32a-4a16-8e68-31df38c9275b"
      },
      "source": [
        "mystery = 734_529.678\n",
        "type(mystery)\n"
      ],
      "execution_count": 3,
      "outputs": [
        {
          "output_type": "execute_result",
          "data": {
            "text/plain": [
              "float"
            ]
          },
          "metadata": {
            "tags": []
          },
          "execution_count": 3
        }
      ]
    },
    {
      "cell_type": "code",
      "metadata": {
        "colab": {
          "base_uri": "https://localhost:8080/"
        },
        "id": "RgEdZBjldbH6",
        "outputId": "e975bab2-b34a-4232-b07d-faa90545ed0f"
      },
      "source": [
        "street_name = \"Abbey Road\"\n",
        "print(street_name[4] + street_name[7])\n"
      ],
      "execution_count": 4,
      "outputs": [
        {
          "output_type": "stream",
          "text": [
            "yo\n"
          ],
          "name": "stdout"
        }
      ]
    },
    {
      "cell_type": "code",
      "metadata": {
        "colab": {
          "base_uri": "https://localhost:8080/"
        },
        "id": "T7zL_F-cdfYe",
        "outputId": "46435149-2547-416a-9e58-2e219b271a1b"
      },
      "source": [
        "# 🚨 Don't change the code below 👇\n",
        "two_digit_number = input(\"Type a two digit number: \")\n",
        "two_number = input(\"type:\")\n",
        "# 🚨 Don't change the code above 👆\n",
        "\n",
        "####################################\n",
        "#Write your code below this line 👇\n",
        "\n",
        "#Check the data type of two_digit_number\n",
        "print(type(two_digit_number))\n",
        "print(type(two_number))\n",
        "\n",
        "#Get the first and second digits using subscripting then convert string to int.\n",
        "first_digit = int(two_digit_number[0])\n",
        "f_num = int(two_number[0])\n",
        "second_digit = int(two_digit_number[1])\n",
        "s_num = int(two_number[1])\n",
        "\n",
        "#Add the two digits togeter\n",
        "two_digit_number = first_digit + second_digit\n",
        "two_number = f_num + s_num\n",
        "print(two_digit_number)\n"
      ],
      "execution_count": 8,
      "outputs": [
        {
          "output_type": "stream",
          "text": [
            "Type a two digit number: 39\n",
            "<class 'str'>\n",
            "12\n"
          ],
          "name": "stdout"
        }
      ]
    },
    {
      "cell_type": "code",
      "metadata": {
        "colab": {
          "base_uri": "https://localhost:8080/"
        },
        "id": "QjQcobgTjBCC",
        "outputId": "1856324c-b424-4feb-8d6d-91d3888ff029"
      },
      "source": [
        "number = input('input: ')\n",
        "\n",
        "n1=int(number[0])\n",
        "n2=int(number[1])\n",
        "\n",
        "number = n1+n2\n",
        "print(number)"
      ],
      "execution_count": 10,
      "outputs": [
        {
          "output_type": "stream",
          "text": [
            "input: 42\n",
            "6\n"
          ],
          "name": "stdout"
        }
      ]
    },
    {
      "cell_type": "code",
      "metadata": {
        "id": "QS1pJhv6iQNX"
      },
      "source": [
        ""
      ],
      "execution_count": null,
      "outputs": []
    }
  ]
}